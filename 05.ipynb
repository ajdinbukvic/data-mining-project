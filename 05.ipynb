{
 "cells": [
  {
   "cell_type": "code",
   "execution_count": 1,
   "metadata": {},
   "outputs": [],
   "source": [
    "import numpy as np\n",
    "from sklearn.feature_selection import SelectKBest, chi2, f_classif, mutual_info_classif\n",
    "from sklearn.neighbors import KNeighborsClassifier\n",
    "from sklearn.model_selection import train_test_split, cross_val_score\n",
    "from sklearn.preprocessing import StandardScaler, MinMaxScaler\n",
    "from sklearn.metrics import accuracy_score\n",
    "import pandas as pd"
   ]
  },
  {
   "cell_type": "code",
   "execution_count": 19,
   "metadata": {},
   "outputs": [],
   "source": [
    "data = pd.read_csv('adult_cleaned_final.csv')"
   ]
  },
  {
   "cell_type": "code",
   "execution_count": 20,
   "metadata": {},
   "outputs": [
    {
     "data": {
      "text/html": [
       "<div>\n",
       "<style scoped>\n",
       "    .dataframe tbody tr th:only-of-type {\n",
       "        vertical-align: middle;\n",
       "    }\n",
       "\n",
       "    .dataframe tbody tr th {\n",
       "        vertical-align: top;\n",
       "    }\n",
       "\n",
       "    .dataframe thead th {\n",
       "        text-align: right;\n",
       "    }\n",
       "</style>\n",
       "<table border=\"1\" class=\"dataframe\">\n",
       "  <thead>\n",
       "    <tr style=\"text-align: right;\">\n",
       "      <th></th>\n",
       "      <th>age</th>\n",
       "      <th>workclass</th>\n",
       "      <th>fnlwgt</th>\n",
       "      <th>education</th>\n",
       "      <th>educational-num</th>\n",
       "      <th>marital-status</th>\n",
       "      <th>occupation</th>\n",
       "      <th>relationship</th>\n",
       "      <th>race</th>\n",
       "      <th>gender</th>\n",
       "      <th>capital-gain</th>\n",
       "      <th>capital-loss</th>\n",
       "      <th>hours-per-week</th>\n",
       "      <th>native-country</th>\n",
       "      <th>income</th>\n",
       "    </tr>\n",
       "  </thead>\n",
       "  <tbody>\n",
       "    <tr>\n",
       "      <th>0</th>\n",
       "      <td>25</td>\n",
       "      <td>Private</td>\n",
       "      <td>226802</td>\n",
       "      <td>11th</td>\n",
       "      <td>7</td>\n",
       "      <td>Never-married</td>\n",
       "      <td>Machine-op-inspct</td>\n",
       "      <td>Own-child</td>\n",
       "      <td>Black</td>\n",
       "      <td>Male</td>\n",
       "      <td>0</td>\n",
       "      <td>0</td>\n",
       "      <td>40</td>\n",
       "      <td>United-States</td>\n",
       "      <td>&lt;=50K</td>\n",
       "    </tr>\n",
       "    <tr>\n",
       "      <th>1</th>\n",
       "      <td>38</td>\n",
       "      <td>Private</td>\n",
       "      <td>89814</td>\n",
       "      <td>HS-grad</td>\n",
       "      <td>9</td>\n",
       "      <td>Married-civ-spouse</td>\n",
       "      <td>Farming-fishing</td>\n",
       "      <td>Husband</td>\n",
       "      <td>White</td>\n",
       "      <td>Male</td>\n",
       "      <td>0</td>\n",
       "      <td>0</td>\n",
       "      <td>50</td>\n",
       "      <td>United-States</td>\n",
       "      <td>&lt;=50K</td>\n",
       "    </tr>\n",
       "    <tr>\n",
       "      <th>2</th>\n",
       "      <td>28</td>\n",
       "      <td>Local-gov</td>\n",
       "      <td>336951</td>\n",
       "      <td>Assoc-acdm</td>\n",
       "      <td>12</td>\n",
       "      <td>Married-civ-spouse</td>\n",
       "      <td>Protective-serv</td>\n",
       "      <td>Husband</td>\n",
       "      <td>White</td>\n",
       "      <td>Male</td>\n",
       "      <td>0</td>\n",
       "      <td>0</td>\n",
       "      <td>40</td>\n",
       "      <td>United-States</td>\n",
       "      <td>&gt;50K</td>\n",
       "    </tr>\n",
       "    <tr>\n",
       "      <th>3</th>\n",
       "      <td>44</td>\n",
       "      <td>Private</td>\n",
       "      <td>160323</td>\n",
       "      <td>Some-college</td>\n",
       "      <td>10</td>\n",
       "      <td>Married-civ-spouse</td>\n",
       "      <td>Machine-op-inspct</td>\n",
       "      <td>Husband</td>\n",
       "      <td>Black</td>\n",
       "      <td>Male</td>\n",
       "      <td>7688</td>\n",
       "      <td>0</td>\n",
       "      <td>40</td>\n",
       "      <td>United-States</td>\n",
       "      <td>&gt;50K</td>\n",
       "    </tr>\n",
       "    <tr>\n",
       "      <th>4</th>\n",
       "      <td>24</td>\n",
       "      <td>Private</td>\n",
       "      <td>369667</td>\n",
       "      <td>Some-college</td>\n",
       "      <td>10</td>\n",
       "      <td>Never-married</td>\n",
       "      <td>Other-service</td>\n",
       "      <td>Unmarried</td>\n",
       "      <td>White</td>\n",
       "      <td>Female</td>\n",
       "      <td>0</td>\n",
       "      <td>0</td>\n",
       "      <td>40</td>\n",
       "      <td>United-States</td>\n",
       "      <td>&lt;=50K</td>\n",
       "    </tr>\n",
       "  </tbody>\n",
       "</table>\n",
       "</div>"
      ],
      "text/plain": [
       "   age  workclass  fnlwgt     education  educational-num      marital-status  \\\n",
       "0   25    Private  226802          11th                7       Never-married   \n",
       "1   38    Private   89814       HS-grad                9  Married-civ-spouse   \n",
       "2   28  Local-gov  336951    Assoc-acdm               12  Married-civ-spouse   \n",
       "3   44    Private  160323  Some-college               10  Married-civ-spouse   \n",
       "4   24    Private  369667  Some-college               10       Never-married   \n",
       "\n",
       "          occupation relationship   race  gender  capital-gain  capital-loss  \\\n",
       "0  Machine-op-inspct    Own-child  Black    Male             0             0   \n",
       "1    Farming-fishing      Husband  White    Male             0             0   \n",
       "2    Protective-serv      Husband  White    Male             0             0   \n",
       "3  Machine-op-inspct      Husband  Black    Male          7688             0   \n",
       "4      Other-service    Unmarried  White  Female             0             0   \n",
       "\n",
       "   hours-per-week native-country income  \n",
       "0              40  United-States  <=50K  \n",
       "1              50  United-States  <=50K  \n",
       "2              40  United-States   >50K  \n",
       "3              40  United-States   >50K  \n",
       "4              40  United-States  <=50K  "
      ]
     },
     "execution_count": 20,
     "metadata": {},
     "output_type": "execute_result"
    }
   ],
   "source": [
    "data.head()"
   ]
  },
  {
   "cell_type": "code",
   "execution_count": 3,
   "metadata": {},
   "outputs": [],
   "source": [
    "X = pd.get_dummies(data.drop('income', axis=1)).values\n",
    "y = data['income'].str.strip().apply(lambda x: 1 if x == '>50K' else 0).values"
   ]
  },
  {
   "cell_type": "code",
   "execution_count": 16,
   "metadata": {},
   "outputs": [
    {
     "name": "stdout",
     "output_type": "stream",
     "text": [
      "[0 0 1 ... 1 0 1]\n"
     ]
    }
   ],
   "source": [
    "print(y)"
   ]
  },
  {
   "cell_type": "code",
   "execution_count": 4,
   "metadata": {},
   "outputs": [],
   "source": [
    "scaler = StandardScaler()\n",
    "X = scaler.fit_transform(X)"
   ]
  },
  {
   "cell_type": "code",
   "execution_count": 17,
   "metadata": {},
   "outputs": [
    {
     "name": "stdout",
     "output_type": "stream",
     "text": [
      "[[-1.16088612  0.52721629 -1.32098034 ...  0.30262079 -0.04512937\n",
      "  -0.02092762]\n",
      " [-0.07017698 -1.04506802 -0.49672077 ...  0.30262079 -0.04512937\n",
      "  -0.02092762]\n",
      " [-0.90918401  1.79145508  0.73966858 ...  0.30262079 -0.04512937\n",
      "  -0.02092762]\n",
      " ...\n",
      " [ 0.09762442 -0.30407848 -0.49672077 ...  0.30262079 -0.04512937\n",
      "  -0.02092762]\n",
      " [ 1.60783707 -0.33235912 -0.49672077 ...  0.30262079 -0.04512937\n",
      "  -0.02092762]\n",
      " [ 1.10443285  1.2287805  -0.49672077 ...  0.30262079 -0.04512937\n",
      "  -0.02092762]]\n"
     ]
    }
   ],
   "source": [
    "print(X)"
   ]
  },
  {
   "cell_type": "code",
   "execution_count": 5,
   "metadata": {},
   "outputs": [],
   "source": [
    "model = KNeighborsClassifier()"
   ]
  },
  {
   "cell_type": "code",
   "execution_count": 6,
   "metadata": {},
   "outputs": [],
   "source": [
    "scoring_functions = {\n",
    "    'chi2': chi2,\n",
    "    'f_classif': f_classif,\n",
    "    'mutual_info_classif': mutual_info_classif\n",
    "}"
   ]
  },
  {
   "cell_type": "code",
   "execution_count": 7,
   "metadata": {},
   "outputs": [],
   "source": [
    "population_size = 20\n",
    "n_generations = 50\n",
    "mutation_rate = 0.01\n",
    "crossover_rate = 0.8"
   ]
  },
  {
   "cell_type": "code",
   "execution_count": 8,
   "metadata": {},
   "outputs": [],
   "source": [
    "def genetic_algorithm(X, y, n_features, model, scoring):\n",
    "    n_samples, n_total_features = X.shape\n",
    "\n",
    "    population = np.random.randint(0, 2, size=(population_size, n_total_features))\n",
    "\n",
    "    def fitness(solution):\n",
    "        selected_features = np.where(solution == 1)[0]\n",
    "        if len(selected_features) == 0:\n",
    "            return 0\n",
    "        X_selected = X[:, selected_features]\n",
    "        \n",
    "        if scoring == 'chi2':\n",
    "            scaler = MinMaxScaler()\n",
    "        else:\n",
    "            scaler = StandardScaler()\n",
    "        \n",
    "        X_selected = scaler.fit_transform(X_selected)\n",
    "        selector = SelectKBest(scoring_functions[scoring], k=min(len(selected_features), n_features))\n",
    "        X_selected = selector.fit_transform(X_selected, y)\n",
    "        scores = cross_val_score(model, X_selected, y, cv=5, scoring='accuracy')\n",
    "        return np.mean(scores)\n",
    "\n",
    "    def selection(population, fitnesses):\n",
    "        selected_indices = np.random.choice(np.arange(population_size), size=population_size, replace=True, p=fitnesses/fitnesses.sum())\n",
    "        return population[selected_indices]\n",
    "\n",
    "    def crossover(parent1, parent2):\n",
    "        if np.random.rand() < crossover_rate:\n",
    "            crossover_point = np.random.randint(1, n_total_features-1)\n",
    "            child1 = np.concatenate([parent1[:crossover_point], parent2[crossover_point:]])\n",
    "            child2 = np.concatenate([parent2[:crossover_point], parent1[crossover_point:]])\n",
    "            return child1, child2\n",
    "        else:\n",
    "            return parent1, parent2\n",
    "\n",
    "    def mutate(chromosome):\n",
    "        for i in range(n_total_features):\n",
    "            if np.random.rand() < mutation_rate:\n",
    "                chromosome[i] = 1 - chromosome[i]\n",
    "        return chromosome\n",
    "\n",
    "    best_solution = population[0]\n",
    "    best_fitness = fitness(best_solution)\n",
    "\n",
    "    for generation in range(n_generations):\n",
    "        fitnesses = np.array([fitness(individual) for individual in population])\n",
    "        best_gen_index = np.argmax(fitnesses)\n",
    "        if fitnesses[best_gen_index] > best_fitness:\n",
    "            best_solution = population[best_gen_index]\n",
    "            best_fitness = fitnesses[best_gen_index]\n",
    "\n",
    "        selected_population = selection(population, fitnesses)\n",
    "        new_population = []\n",
    "\n",
    "        for i in range(0, population_size, 2):\n",
    "            parent1 = selected_population[i]\n",
    "            parent2 = selected_population[i+1]\n",
    "            child1, child2 = crossover(parent1, parent2)\n",
    "            new_population.append(mutate(child1))\n",
    "            new_population.append(mutate(child2))\n",
    "\n",
    "        population = np.array(new_population)\n",
    "        print(f'Iteration {generation+1} finished')\n",
    "\n",
    "    return best_solution"
   ]
  },
  {
   "cell_type": "code",
   "execution_count": 9,
   "metadata": {},
   "outputs": [
    {
     "name": "stdout",
     "output_type": "stream",
     "text": [
      "Iteration 1 finished\n",
      "Iteration 2 finished\n",
      "Iteration 3 finished\n",
      "Iteration 4 finished\n",
      "Iteration 5 finished\n",
      "Iteration 6 finished\n",
      "Iteration 7 finished\n",
      "Iteration 8 finished\n",
      "Iteration 9 finished\n",
      "Iteration 10 finished\n",
      "Iteration 11 finished\n",
      "Iteration 12 finished\n",
      "Iteration 13 finished\n",
      "Iteration 14 finished\n",
      "Iteration 15 finished\n",
      "Iteration 16 finished\n",
      "Iteration 17 finished\n",
      "Iteration 18 finished\n",
      "Iteration 19 finished\n",
      "Iteration 20 finished\n",
      "Iteration 21 finished\n",
      "Iteration 22 finished\n",
      "Iteration 23 finished\n",
      "Iteration 24 finished\n",
      "Iteration 25 finished\n",
      "Iteration 26 finished\n",
      "Iteration 27 finished\n",
      "Iteration 28 finished\n",
      "Iteration 29 finished\n",
      "Iteration 30 finished\n",
      "Iteration 31 finished\n",
      "Iteration 32 finished\n",
      "Iteration 33 finished\n",
      "Iteration 34 finished\n",
      "Iteration 35 finished\n",
      "Iteration 36 finished\n",
      "Iteration 37 finished\n",
      "Iteration 38 finished\n",
      "Iteration 39 finished\n",
      "Iteration 40 finished\n",
      "Iteration 41 finished\n",
      "Iteration 42 finished\n",
      "Iteration 43 finished\n",
      "Iteration 44 finished\n",
      "Iteration 45 finished\n",
      "Iteration 46 finished\n",
      "Iteration 47 finished\n",
      "Iteration 48 finished\n",
      "Iteration 49 finished\n",
      "Iteration 50 finished\n"
     ]
    }
   ],
   "source": [
    "best_features = genetic_algorithm(X, y, n_features=10, model=model, scoring='chi2')"
   ]
  },
  {
   "cell_type": "code",
   "execution_count": 10,
   "metadata": {},
   "outputs": [],
   "source": [
    "selected_features_indices = np.where(best_features == 1)[0]\n",
    "X_selected = X[:, selected_features_indices]"
   ]
  },
  {
   "cell_type": "code",
   "execution_count": 18,
   "metadata": {},
   "outputs": [
    {
     "name": "stdout",
     "output_type": "stream",
     "text": [
      "[[-1.16088612  0.52721629 -0.14818923 ... -0.04407355 -0.03494283\n",
      "  -0.02092762]\n",
      " [-0.07017698 -1.04506802 -0.14818923 ... -0.04407355 -0.03494283\n",
      "  -0.02092762]\n",
      " [-0.90918401  1.79145508 -0.14818923 ... -0.04407355 -0.03494283\n",
      "  -0.02092762]\n",
      " ...\n",
      " [ 0.09762442 -0.30407848 -0.14818923 ... -0.04407355 -0.03494283\n",
      "  -0.02092762]\n",
      " [ 1.60783707 -0.33235912 -0.14818923 ... -0.04407355 -0.03494283\n",
      "  -0.02092762]\n",
      " [ 1.10443285  1.2287805   2.07774495 ... -0.04407355 -0.03494283\n",
      "  -0.02092762]]\n"
     ]
    }
   ],
   "source": [
    "print(X_selected)"
   ]
  },
  {
   "cell_type": "code",
   "execution_count": 11,
   "metadata": {},
   "outputs": [
    {
     "name": "stderr",
     "output_type": "stream",
     "text": [
      "c:\\Users\\DT User3\\AppData\\Local\\Programs\\Python\\Python310\\lib\\site-packages\\joblib\\externals\\loky\\backend\\context.py:136: UserWarning: Could not find the number of physical cores for the following reason:\n",
      "[WinError 2] The system cannot find the file specified\n",
      "Returning the number of logical cores instead. You can silence this warning by setting LOKY_MAX_CPU_COUNT to the number of cores you want to use.\n",
      "  warnings.warn(\n",
      "  File \"c:\\Users\\DT User3\\AppData\\Local\\Programs\\Python\\Python310\\lib\\site-packages\\joblib\\externals\\loky\\backend\\context.py\", line 257, in _count_physical_cores\n",
      "    cpu_info = subprocess.run(\n",
      "  File \"c:\\Users\\DT User3\\AppData\\Local\\Programs\\Python\\Python310\\lib\\subprocess.py\", line 501, in run\n",
      "    with Popen(*popenargs, **kwargs) as process:\n",
      "  File \"c:\\Users\\DT User3\\AppData\\Local\\Programs\\Python\\Python310\\lib\\subprocess.py\", line 966, in __init__\n",
      "    self._execute_child(args, executable, preexec_fn, close_fds,\n",
      "  File \"c:\\Users\\DT User3\\AppData\\Local\\Programs\\Python\\Python310\\lib\\subprocess.py\", line 1435, in _execute_child\n",
      "    hp, ht, pid, tid = _winapi.CreateProcess(executable, args,\n"
     ]
    }
   ],
   "source": [
    "X_train, X_test, y_train, y_test = train_test_split(X_selected, y, test_size=0.2, random_state=42)\n",
    "model.fit(X_train, y_train)\n",
    "y_pred = model.predict(X_test)"
   ]
  },
  {
   "cell_type": "code",
   "execution_count": 12,
   "metadata": {},
   "outputs": [
    {
     "name": "stdout",
     "output_type": "stream",
     "text": [
      "Accuracy: 0.8012820512820513\n"
     ]
    }
   ],
   "source": [
    "accuracy = accuracy_score(y_test, y_pred)\n",
    "print('Accuracy:', accuracy)"
   ]
  }
 ],
 "metadata": {
  "kernelspec": {
   "display_name": "Python 3",
   "language": "python",
   "name": "python3"
  },
  "language_info": {
   "codemirror_mode": {
    "name": "ipython",
    "version": 3
   },
   "file_extension": ".py",
   "mimetype": "text/x-python",
   "name": "python",
   "nbconvert_exporter": "python",
   "pygments_lexer": "ipython3",
   "version": "3.10.0"
  }
 },
 "nbformat": 4,
 "nbformat_minor": 2
}
