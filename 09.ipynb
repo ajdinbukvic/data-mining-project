{
 "cells": [
  {
   "cell_type": "code",
   "execution_count": 1,
   "metadata": {},
   "outputs": [],
   "source": [
    "import pandas as pd\n",
    "import numpy as np\n",
    "from sklearn.model_selection import train_test_split\n",
    "from sklearn.preprocessing import StandardScaler, OneHotEncoder\n",
    "from sklearn.compose import ColumnTransformer\n",
    "from sklearn.pipeline import Pipeline\n",
    "from sklearn.svm import SVC\n",
    "from sklearn.metrics import accuracy_score, classification_report\n",
    "from scipy.stats import uniform\n",
    "import matplotlib.pyplot as plt\n",
    "import random"
   ]
  },
  {
   "cell_type": "code",
   "execution_count": 2,
   "metadata": {},
   "outputs": [],
   "source": [
    "data = pd.read_csv('adult_cleaned_final.csv')"
   ]
  },
  {
   "cell_type": "code",
   "execution_count": 4,
   "metadata": {},
   "outputs": [],
   "source": [
    "X = data.drop('income', axis=1)"
   ]
  },
  {
   "cell_type": "code",
   "execution_count": 6,
   "metadata": {},
   "outputs": [],
   "source": [
    "y = data['income'].apply(lambda x: 1 if x == '>50K' else 0)"
   ]
  },
  {
   "cell_type": "code",
   "execution_count": 8,
   "metadata": {},
   "outputs": [],
   "source": [
    "X_train, X_test, y_train, y_test = train_test_split(X, y, test_size=0.2, random_state=42)"
   ]
  },
  {
   "cell_type": "code",
   "execution_count": 9,
   "metadata": {},
   "outputs": [],
   "source": [
    "numerical_features = ['age', 'fnlwgt', 'educational-num', 'capital-gain', 'capital-loss', 'hours-per-week']\n",
    "categorical_features = ['workclass', 'education', 'marital-status', 'occupation', 'relationship', 'race', 'gender', 'native-country']"
   ]
  },
  {
   "cell_type": "code",
   "execution_count": 10,
   "metadata": {},
   "outputs": [],
   "source": [
    "numerical_transformer = StandardScaler()\n",
    "categorical_transformer = OneHotEncoder(handle_unknown='ignore')"
   ]
  },
  {
   "cell_type": "code",
   "execution_count": 11,
   "metadata": {},
   "outputs": [],
   "source": [
    "preprocessor = ColumnTransformer(\n",
    "    transformers=[\n",
    "        ('num', numerical_transformer, numerical_features),\n",
    "        ('cat', categorical_transformer, categorical_features)\n",
    "    ])"
   ]
  },
  {
   "cell_type": "code",
   "execution_count": 12,
   "metadata": {},
   "outputs": [],
   "source": [
    "initial_clf = Pipeline(steps=[\n",
    "    ('preprocessor', preprocessor),\n",
    "    ('classifier', SVC(kernel='rbf'))\n",
    "])"
   ]
  },
  {
   "cell_type": "code",
   "execution_count": 13,
   "metadata": {},
   "outputs": [
    {
     "name": "stdout",
     "output_type": "stream",
     "text": [
      "Inicijalna preciznost: 0.8453721075672295\n"
     ]
    }
   ],
   "source": [
    "initial_clf.fit(X_train, y_train)\n",
    "y_pred_initial = initial_clf.predict(X_test)\n",
    "print(\"Inicijalna preciznost:\", accuracy_score(y_test, y_pred_initial))"
   ]
  },
  {
   "cell_type": "code",
   "execution_count": 14,
   "metadata": {},
   "outputs": [],
   "source": [
    "initial_best = [1.5227581792019662, 0.06450025916751723]"
   ]
  },
  {
   "cell_type": "code",
   "execution_count": 15,
   "metadata": {},
   "outputs": [],
   "source": [
    "lb = [max(0.1, initial_best[0] - 0.5), max(0.001, initial_best[1] - 0.01)]\n",
    "ub = [initial_best[0] + 0.5, initial_best[1] + 0.01]\n",
    "random_seed = 68"
   ]
  },
  {
   "cell_type": "code",
   "execution_count": 16,
   "metadata": {},
   "outputs": [],
   "source": [
    "def objective_function(params, iteration_seed):\n",
    "    C, gamma = params\n",
    "    pipeline = Pipeline(steps=[\n",
    "        ('preprocessor', preprocessor),\n",
    "        ('classifier', SVC(kernel='rbf', C=C, gamma=gamma, random_state=iteration_seed))\n",
    "    ])\n",
    "    pipeline.fit(X_train, y_train)\n",
    "    y_pred = pipeline.predict(X_test)\n",
    "    return accuracy_score(y_test, y_pred)"
   ]
  },
  {
   "cell_type": "code",
   "execution_count": 17,
   "metadata": {},
   "outputs": [],
   "source": [
    "def bat_algorithm(n_bats, iterations, lb, ub, pulse_freq, loudness, pulse_rate, alpha, gamma, initial_best, random_seed):\n",
    "    np.random.seed(random_seed)\n",
    "    random.seed(random_seed)\n",
    "    dim = 2\n",
    "    Qmin, Qmax = pulse_freq\n",
    "    Q = np.zeros(n_bats)\n",
    "    V = np.zeros((n_bats, dim))\n",
    "    np.random.seed(random.randint(0, 123456789))\n",
    "    X = np.random.uniform(lb, ub, (n_bats, dim))\n",
    "    X[0] = initial_best\n",
    "    print(X)\n",
    "    fitness = np.array([objective_function(ind, random.randint(0, 10000)) for ind in X])\n",
    "    best_bat = X[np.argmax(fitness)]\n",
    "    best_fitness = np.max(fitness)\n",
    "\n",
    "    history = []\n",
    "\n",
    "    for t in range(iterations):\n",
    "        for i in range(n_bats):\n",
    "            Q[i] = Qmin + (Qmax - Qmin) * np.random.rand()\n",
    "            V[i] += (X[i] - best_bat) * Q[i]\n",
    "            X[i] = np.clip(X[i] + V[i], lb, ub)\n",
    "\n",
    "            if np.random.rand() > pulse_rate:\n",
    "                X[i] = np.clip(best_bat + 0.001 * np.random.randn(dim), lb, ub)\n",
    "            iteration_seed = random.randint(0, 10000)\n",
    "            if np.random.rand() < loudness and objective_function(X[i], iteration_seed) > fitness[i]:\n",
    "                fitness[i] = objective_function(X[i], iteration_seed)\n",
    "                if fitness[i] > best_fitness:\n",
    "                    best_bat = X[i]\n",
    "                    best_fitness = fitness[i]\n",
    "\n",
    "        print(f\"BAT Iteracija: {t+1}\")\n",
    "        history.append(best_fitness)\n",
    "\n",
    "        loudness *= alpha\n",
    "        pulse_rate *= (1 - np.exp(-gamma * t))\n",
    "\n",
    "    return best_bat, best_fitness, history"
   ]
  },
  {
   "cell_type": "code",
   "execution_count": 18,
   "metadata": {},
   "outputs": [],
   "source": [
    "n_bats = 10\n",
    "iterations = 30\n",
    "pulse_freq = [0, 2]\n",
    "loudness = 0.5\n",
    "pulse_rate = 0.5\n",
    "alpha = 0.9\n",
    "gamma = 0.9"
   ]
  },
  {
   "cell_type": "code",
   "execution_count": 19,
   "metadata": {},
   "outputs": [
    {
     "name": "stdout",
     "output_type": "stream",
     "text": [
      "[[1.52275818 0.06450026]\n",
      " [1.76441665 0.06438944]\n",
      " [1.98784787 0.05686907]\n",
      " [1.8931667  0.07277934]\n",
      " [1.30734295 0.07087928]\n",
      " [1.6505671  0.06838754]\n",
      " [1.63917684 0.06855125]\n",
      " [1.74123146 0.06649116]\n",
      " [1.99115415 0.05569387]\n",
      " [1.21950118 0.06948251]]\n",
      "BAT Iteracija: 1\n",
      "BAT Iteracija: 2\n",
      "BAT Iteracija: 3\n",
      "BAT Iteracija: 4\n",
      "BAT Iteracija: 5\n",
      "BAT Iteracija: 6\n",
      "BAT Iteracija: 7\n",
      "BAT Iteracija: 8\n",
      "BAT Iteracija: 9\n",
      "BAT Iteracija: 10\n",
      "BAT Iteracija: 11\n",
      "BAT Iteracija: 12\n",
      "BAT Iteracija: 13\n",
      "BAT Iteracija: 14\n",
      "BAT Iteracija: 15\n",
      "BAT Iteracija: 16\n",
      "BAT Iteracija: 17\n",
      "BAT Iteracija: 18\n",
      "BAT Iteracija: 19\n",
      "BAT Iteracija: 20\n",
      "BAT Iteracija: 21\n",
      "BAT Iteracija: 22\n",
      "BAT Iteracija: 23\n",
      "BAT Iteracija: 24\n",
      "BAT Iteracija: 25\n",
      "BAT Iteracija: 26\n",
      "BAT Iteracija: 27\n",
      "BAT Iteracija: 28\n",
      "BAT Iteracija: 29\n",
      "BAT Iteracija: 30\n"
     ]
    }
   ],
   "source": [
    "best_params_bat, best_score_bat, history_bat = bat_algorithm(n_bats, iterations, lb, ub, pulse_freq, loudness, pulse_rate, alpha, gamma, initial_best, random_seed)"
   ]
  },
  {
   "cell_type": "code",
   "execution_count": 20,
   "metadata": {},
   "outputs": [
    {
     "name": "stdout",
     "output_type": "stream",
     "text": [
      "BAT najbolje parametre: C = 1.022928653795048, gamma = 0.055679560530225235\n",
      "BAT najbolji rezultat: 0.848968105065666\n"
     ]
    }
   ],
   "source": [
    "print(f\"BAT najbolje parametre: C = {best_params_bat[0]}, gamma = {best_params_bat[1]}\")\n",
    "print(f\"BAT najbolji rezultat: {best_score_bat}\")"
   ]
  }
 ],
 "metadata": {
  "kernelspec": {
   "display_name": "Python 3",
   "language": "python",
   "name": "python3"
  },
  "language_info": {
   "codemirror_mode": {
    "name": "ipython",
    "version": 3
   },
   "file_extension": ".py",
   "mimetype": "text/x-python",
   "name": "python",
   "nbconvert_exporter": "python",
   "pygments_lexer": "ipython3",
   "version": "3.10.0"
  }
 },
 "nbformat": 4,
 "nbformat_minor": 2
}
