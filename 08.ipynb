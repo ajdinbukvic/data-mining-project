{
 "cells": [
  {
   "cell_type": "code",
   "execution_count": 1,
   "metadata": {},
   "outputs": [],
   "source": [
    "import pandas as pd\n",
    "import numpy as np\n",
    "from sklearn.model_selection import train_test_split\n",
    "from sklearn.preprocessing import StandardScaler, OneHotEncoder\n",
    "from sklearn.compose import ColumnTransformer\n",
    "from sklearn.pipeline import Pipeline\n",
    "from sklearn.svm import SVC\n",
    "from sklearn.metrics import accuracy_score, classification_report\n",
    "from scipy.stats import uniform\n",
    "import matplotlib.pyplot as plt\n",
    "import random"
   ]
  },
  {
   "cell_type": "code",
   "execution_count": 2,
   "metadata": {},
   "outputs": [],
   "source": [
    "data = pd.read_csv('adult_cleaned_final.csv')"
   ]
  },
  {
   "cell_type": "code",
   "execution_count": 4,
   "metadata": {},
   "outputs": [],
   "source": [
    "X = data.drop('income', axis=1)"
   ]
  },
  {
   "cell_type": "code",
   "execution_count": 6,
   "metadata": {},
   "outputs": [],
   "source": [
    "y = data['income'].apply(lambda x: 1 if x == '>50K' else 0)"
   ]
  },
  {
   "cell_type": "code",
   "execution_count": 8,
   "metadata": {},
   "outputs": [],
   "source": [
    "X_train, X_test, y_train, y_test = train_test_split(X, y, test_size=0.2, random_state=42)"
   ]
  },
  {
   "cell_type": "code",
   "execution_count": 9,
   "metadata": {},
   "outputs": [],
   "source": [
    "numerical_features = ['age', 'fnlwgt', 'educational-num', 'capital-gain', 'capital-loss', 'hours-per-week']\n",
    "categorical_features = ['workclass', 'education', 'marital-status', 'occupation', 'relationship', 'race', 'gender', 'native-country']"
   ]
  },
  {
   "cell_type": "code",
   "execution_count": 10,
   "metadata": {},
   "outputs": [],
   "source": [
    "numerical_transformer = StandardScaler()\n",
    "categorical_transformer = OneHotEncoder(handle_unknown='ignore')"
   ]
  },
  {
   "cell_type": "code",
   "execution_count": 11,
   "metadata": {},
   "outputs": [],
   "source": [
    "preprocessor = ColumnTransformer(\n",
    "    transformers=[\n",
    "        ('num', numerical_transformer, numerical_features),\n",
    "        ('cat', categorical_transformer, categorical_features)\n",
    "    ])"
   ]
  },
  {
   "cell_type": "code",
   "execution_count": 12,
   "metadata": {},
   "outputs": [],
   "source": [
    "initial_clf = Pipeline(steps=[\n",
    "    ('preprocessor', preprocessor),\n",
    "    ('classifier', SVC(kernel='rbf'))\n",
    "])"
   ]
  },
  {
   "cell_type": "code",
   "execution_count": 13,
   "metadata": {},
   "outputs": [
    {
     "name": "stdout",
     "output_type": "stream",
     "text": [
      "Inicijalna preciznost: 0.8453721075672295\n"
     ]
    }
   ],
   "source": [
    "initial_clf.fit(X_train, y_train)\n",
    "y_pred_initial = initial_clf.predict(X_test)\n",
    "print(\"Inicijalna preciznost:\", accuracy_score(y_test, y_pred_initial))"
   ]
  },
  {
   "cell_type": "code",
   "execution_count": 14,
   "metadata": {},
   "outputs": [],
   "source": [
    "initial_best = [1.5227581792019662, 0.06450025916751723]"
   ]
  },
  {
   "cell_type": "code",
   "execution_count": 15,
   "metadata": {},
   "outputs": [],
   "source": [
    "lb = [max(0.1, initial_best[0] - 0.5), max(0.001, initial_best[1] - 0.01)]\n",
    "ub = [initial_best[0] + 0.5, initial_best[1] + 0.01]\n",
    "random_seed = 54"
   ]
  },
  {
   "cell_type": "code",
   "execution_count": 16,
   "metadata": {},
   "outputs": [],
   "source": [
    "def objective_function(params, iteration_seed):\n",
    "    C, gamma = params\n",
    "    pipeline = Pipeline(steps=[\n",
    "        ('preprocessor', preprocessor),\n",
    "        ('classifier', SVC(kernel='rbf', C=C, gamma=gamma, random_state=iteration_seed))\n",
    "    ])\n",
    "    pipeline.fit(X_train, y_train)\n",
    "    y_pred = pipeline.predict(X_test)\n",
    "    return accuracy_score(y_test, y_pred)"
   ]
  },
  {
   "cell_type": "code",
   "execution_count": 17,
   "metadata": {},
   "outputs": [],
   "source": [
    "def ga(pop_size, generations, lb, ub, mutation_rate, initial_best, random_seed):\n",
    "    np.random.seed(random_seed)\n",
    "    random.seed(random_seed)\n",
    "    dim = 2\n",
    "\n",
    "    def create_individual():\n",
    "        return np.random.uniform(lb, ub, dim)\n",
    "\n",
    "    def mutate(individual):\n",
    "        if np.random.rand() < mutation_rate:\n",
    "            mutation_idx = np.random.randint(0, dim)\n",
    "            individual[mutation_idx] = np.random.uniform(lb[mutation_idx], ub[mutation_idx])\n",
    "        return individual\n",
    "\n",
    "    def crossover(parent1, parent2):\n",
    "        crossover_idx = np.random.randint(0, dim)\n",
    "        child1 = np.concatenate([parent1[:crossover_idx], parent2[crossover_idx:]])\n",
    "        child2 = np.concatenate([parent2[:crossover_idx], parent1[crossover_idx:]])\n",
    "        return child1, child2\n",
    "\n",
    "    population = np.array([create_individual() for _ in range(pop_size)])\n",
    "    population[0] = initial_best\n",
    "    print(population)\n",
    "    scores = np.array([objective_function(ind, random.randint(0, 10000)) for ind in population])\n",
    "\n",
    "    history = []\n",
    "\n",
    "    for gen in range(generations):\n",
    "        new_population = []\n",
    "        for _ in range(pop_size // 2):\n",
    "            parents = population[np.argsort(-scores)[:2]]\n",
    "            child1, child2 = crossover(parents[0], parents[1])\n",
    "            new_population.extend([mutate(child1), mutate(child2)])\n",
    "\n",
    "        population = np.array(new_population)\n",
    "        scores = np.array([objective_function(ind, random.randint(0, 10000)) for ind in population])\n",
    "\n",
    "        print(f\"GA Iteracija: {gen+1}\")\n",
    "        best_idx = np.argmax(scores)\n",
    "        best_individual = population[best_idx]\n",
    "        best_score = scores[best_idx]\n",
    "        history.append(best_score)\n",
    "\n",
    "    return best_individual, best_score, history"
   ]
  },
  {
   "cell_type": "code",
   "execution_count": 18,
   "metadata": {},
   "outputs": [],
   "source": [
    "pop_size = 10\n",
    "generations = 30\n",
    "mutation_rate = 0.1"
   ]
  },
  {
   "cell_type": "code",
   "execution_count": 19,
   "metadata": {},
   "outputs": [
    {
     "name": "stdout",
     "output_type": "stream",
     "text": [
      "[[1.52275818 0.06450026]\n",
      " [1.20763487 0.06486591]\n",
      " [1.03136363 0.07387898]\n",
      " [1.82413944 0.0696465 ]\n",
      " [1.69424248 0.0550934 ]\n",
      " [1.41432021 0.06259614]\n",
      " [1.21238919 0.06984237]\n",
      " [1.63948132 0.07302574]\n",
      " [1.34788221 0.05956335]\n",
      " [1.7429761  0.07443941]]\n",
      "GA Iteracija: 1\n",
      "GA Iteracija: 2\n",
      "GA Iteracija: 3\n",
      "GA Iteracija: 4\n",
      "GA Iteracija: 5\n",
      "GA Iteracija: 6\n",
      "GA Iteracija: 7\n",
      "GA Iteracija: 8\n",
      "GA Iteracija: 9\n",
      "GA Iteracija: 10\n",
      "GA Iteracija: 11\n",
      "GA Iteracija: 12\n",
      "GA Iteracija: 13\n",
      "GA Iteracija: 14\n",
      "GA Iteracija: 15\n",
      "GA Iteracija: 16\n",
      "GA Iteracija: 17\n",
      "GA Iteracija: 18\n",
      "GA Iteracija: 19\n",
      "GA Iteracija: 20\n",
      "GA Iteracija: 21\n",
      "GA Iteracija: 22\n",
      "GA Iteracija: 23\n",
      "GA Iteracija: 24\n",
      "GA Iteracija: 25\n",
      "GA Iteracija: 26\n",
      "GA Iteracija: 27\n",
      "GA Iteracija: 28\n",
      "GA Iteracija: 29\n",
      "GA Iteracija: 30\n"
     ]
    }
   ],
   "source": [
    "best_params_ga, best_score_ga, history_ga = ga(pop_size, generations, lb, ub, mutation_rate, initial_best, random_seed)"
   ]
  },
  {
   "cell_type": "code",
   "execution_count": 20,
   "metadata": {},
   "outputs": [
    {
     "name": "stdout",
     "output_type": "stream",
     "text": [
      "GA najbolje parametre: C = 1.8241394352184273, gamma = 0.07443940842727098\n",
      "GA najbolji rezultat: 0.8488117573483427\n"
     ]
    }
   ],
   "source": [
    "print(f\"GA najbolje parametre: C = {best_params_ga[0]}, gamma = {best_params_ga[1]}\")\n",
    "print(f\"GA najbolji rezultat: {best_score_ga}\")"
   ]
  }
 ],
 "metadata": {
  "kernelspec": {
   "display_name": "Python 3",
   "language": "python",
   "name": "python3"
  },
  "language_info": {
   "codemirror_mode": {
    "name": "ipython",
    "version": 3
   },
   "file_extension": ".py",
   "mimetype": "text/x-python",
   "name": "python",
   "nbconvert_exporter": "python",
   "pygments_lexer": "ipython3",
   "version": "3.10.0"
  }
 },
 "nbformat": 4,
 "nbformat_minor": 2
}
