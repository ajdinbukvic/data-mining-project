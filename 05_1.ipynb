{
 "cells": [
  {
   "cell_type": "code",
   "execution_count": 12,
   "metadata": {},
   "outputs": [],
   "source": [
    "import numpy as np\n",
    "from sklearn.feature_selection import SelectKBest, chi2, f_classif, mutual_info_classif\n",
    "from sklearn.neighbors import KNeighborsClassifier\n",
    "from sklearn.linear_model import LogisticRegression\n",
    "from sklearn.model_selection import train_test_split, cross_val_score\n",
    "from sklearn.preprocessing import StandardScaler, MinMaxScaler\n",
    "from sklearn.metrics import accuracy_score\n",
    "import pandas as pd"
   ]
  },
  {
   "cell_type": "code",
   "execution_count": 2,
   "metadata": {},
   "outputs": [],
   "source": [
    "scoring_functions = {\n",
    "    'chi2': chi2,\n",
    "    'f_classif': f_classif,\n",
    "    'mutual_info_classif': mutual_info_classif\n",
    "}"
   ]
  },
  {
   "cell_type": "code",
   "execution_count": 3,
   "metadata": {},
   "outputs": [],
   "source": [
    "data = pd.read_csv('adult_cleaned_final.csv')"
   ]
  },
  {
   "cell_type": "code",
   "execution_count": 4,
   "metadata": {},
   "outputs": [],
   "source": [
    "X = pd.get_dummies(data.drop('income', axis=1)).values\n",
    "y = (data['income'] == ' >50K').astype(int).values"
   ]
  },
  {
   "cell_type": "code",
   "execution_count": 5,
   "metadata": {},
   "outputs": [],
   "source": [
    "scaler = StandardScaler()\n",
    "X = scaler.fit_transform(X)"
   ]
  },
  {
   "cell_type": "code",
   "execution_count": 6,
   "metadata": {},
   "outputs": [],
   "source": [
    "n_bats = 20\n",
    "n_iterations = 100\n",
    "min_freq = 0\n",
    "max_freq = 2\n",
    "alpha = 0.9  \n",
    "gamma = 0.9"
   ]
  },
  {
   "cell_type": "code",
   "execution_count": 13,
   "metadata": {},
   "outputs": [],
   "source": [
    "def bat_algorithm(X, y, n_features, model, scoring):\n",
    "    n_samples, n_total_features = X.shape\n",
    "\n",
    "    positions = np.random.randint(0, 2, size=(n_bats, n_total_features))\n",
    "    velocities = np.zeros((n_bats, n_total_features))\n",
    "\n",
    "    freq = np.zeros(n_bats)\n",
    "    loudness = np.ones(n_bats)\n",
    "    pulse_rate = np.ones(n_bats)\n",
    "\n",
    "    def fitness(solution):\n",
    "        selected_features = np.where(solution == 1)[0]\n",
    "        if len(selected_features) == 0:\n",
    "            return 0\n",
    "        X_selected = X[:, selected_features]\n",
    "        \n",
    "        if scoring == 'chi2':\n",
    "            scaler = MinMaxScaler()\n",
    "        else:\n",
    "            scaler = StandardScaler()\n",
    "        \n",
    "        X_selected = scaler.fit_transform(X_selected)\n",
    "        selector = SelectKBest(scoring_functions[scoring], k=min(len(selected_features), n_features))\n",
    "        X_selected = selector.fit_transform(X_selected, y)\n",
    "        scores = cross_val_score(model, X_selected, y, cv=5, scoring='accuracy')\n",
    "        return np.mean(scores)\n",
    "\n",
    "    best_position = positions[0]\n",
    "    best_fitness = fitness(best_position)\n",
    "\n",
    "    for t in range(n_iterations):\n",
    "        for i in range(n_bats):\n",
    "            freq[i] = min_freq + (max_freq - min_freq) * np.random.rand()\n",
    "            velocities[i] += (positions[i] - best_position) * freq[i]\n",
    "            new_position = positions[i] + velocities[i]\n",
    "\n",
    "            new_position = np.clip(new_position, 0, 1)\n",
    "            new_position = np.random.randint(0, 2, size=n_total_features)\n",
    "\n",
    "            if np.random.rand() > pulse_rate[i]:\n",
    "                new_position = best_position + alpha * np.mean(loudness)\n",
    "\n",
    "            new_fitness = fitness(new_position)\n",
    "\n",
    "            if (new_fitness > fitness(positions[i])) and (np.random.rand() < loudness[i]):\n",
    "                positions[i] = new_position\n",
    "                loudness[i] *= alpha\n",
    "                pulse_rate[i] = pulse_rate[i] * (1 - np.exp(-gamma * t))\n",
    "\n",
    "            if new_fitness > best_fitness:\n",
    "                best_position = new_position\n",
    "                best_fitness = new_fitness\n",
    "\n",
    "    return best_position"
   ]
  },
  {
   "cell_type": "code",
   "execution_count": 8,
   "metadata": {},
   "outputs": [],
   "source": [
    "models = {\n",
    "    'KNN': KNeighborsClassifier(),\n",
    "    'Logistic Regression': LogisticRegression(max_iter=1000)\n",
    "}"
   ]
  },
  {
   "cell_type": "code",
   "execution_count": 14,
   "metadata": {},
   "outputs": [],
   "source": [
    "results = {}\n",
    "for model_name, model in models.items():\n",
    "    best_features = bat_algorithm(X, y, n_features=10, model=model, scoring='chi2')\n",
    "    selected_features_indices = np.where(best_features == 1)[0]\n",
    "    X_selected = X[:, selected_features_indices]\n",
    "\n",
    "    X_train, X_test, y_train, y_test = train_test_split(X_selected, y, test_size=0.2, random_state=42)\n",
    "    model.fit(X_train, y_train)\n",
    "    y_pred = model.predict(X_test)\n",
    "\n",
    "    accuracy = accuracy_score(y_test, y_pred)\n",
    "    results[model_name] = accuracy"
   ]
  },
  {
   "cell_type": "code",
   "execution_count": null,
   "metadata": {},
   "outputs": [],
   "source": [
    "print(results)"
   ]
  }
 ],
 "metadata": {
  "kernelspec": {
   "display_name": "Python 3",
   "language": "python",
   "name": "python3"
  },
  "language_info": {
   "codemirror_mode": {
    "name": "ipython",
    "version": 3
   },
   "file_extension": ".py",
   "mimetype": "text/x-python",
   "name": "python",
   "nbconvert_exporter": "python",
   "pygments_lexer": "ipython3",
   "version": "3.10.0"
  }
 },
 "nbformat": 4,
 "nbformat_minor": 2
}
