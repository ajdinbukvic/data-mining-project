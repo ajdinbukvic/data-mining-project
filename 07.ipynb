{
 "cells": [
  {
   "cell_type": "code",
   "execution_count": 1,
   "metadata": {},
   "outputs": [],
   "source": [
    "import pandas as pd\n",
    "import numpy as np\n",
    "from sklearn.model_selection import train_test_split\n",
    "from sklearn.preprocessing import StandardScaler, OneHotEncoder\n",
    "from sklearn.compose import ColumnTransformer\n",
    "from sklearn.pipeline import Pipeline\n",
    "from sklearn.svm import SVC\n",
    "from sklearn.metrics import accuracy_score, classification_report\n",
    "from scipy.stats import uniform\n",
    "import matplotlib.pyplot as plt\n",
    "import random"
   ]
  },
  {
   "cell_type": "code",
   "execution_count": 2,
   "metadata": {},
   "outputs": [],
   "source": [
    "data = pd.read_csv('adult_cleaned_final.csv')"
   ]
  },
  {
   "cell_type": "code",
   "execution_count": 4,
   "metadata": {},
   "outputs": [],
   "source": [
    "X = data.drop('income', axis=1)"
   ]
  },
  {
   "cell_type": "code",
   "execution_count": 6,
   "metadata": {},
   "outputs": [],
   "source": [
    "y = data['income'].apply(lambda x: 1 if x == '>50K' else 0)"
   ]
  },
  {
   "cell_type": "code",
   "execution_count": 8,
   "metadata": {},
   "outputs": [],
   "source": [
    "X_train, X_test, y_train, y_test = train_test_split(X, y, test_size=0.2, random_state=42)"
   ]
  },
  {
   "cell_type": "code",
   "execution_count": 9,
   "metadata": {},
   "outputs": [],
   "source": [
    "numerical_features = ['age', 'fnlwgt', 'educational-num', 'capital-gain', 'capital-loss', 'hours-per-week']\n",
    "categorical_features = ['workclass', 'education', 'marital-status', 'occupation', 'relationship', 'race', 'gender', 'native-country']"
   ]
  },
  {
   "cell_type": "code",
   "execution_count": 10,
   "metadata": {},
   "outputs": [],
   "source": [
    "numerical_transformer = StandardScaler()\n",
    "categorical_transformer = OneHotEncoder(handle_unknown='ignore')"
   ]
  },
  {
   "cell_type": "code",
   "execution_count": 11,
   "metadata": {},
   "outputs": [],
   "source": [
    "preprocessor = ColumnTransformer(\n",
    "    transformers=[\n",
    "        ('num', numerical_transformer, numerical_features),\n",
    "        ('cat', categorical_transformer, categorical_features)\n",
    "    ])"
   ]
  },
  {
   "cell_type": "code",
   "execution_count": 12,
   "metadata": {},
   "outputs": [],
   "source": [
    "initial_clf = Pipeline(steps=[\n",
    "    ('preprocessor', preprocessor),\n",
    "    ('classifier', SVC(kernel='rbf'))\n",
    "])"
   ]
  },
  {
   "cell_type": "code",
   "execution_count": 13,
   "metadata": {},
   "outputs": [
    {
     "name": "stdout",
     "output_type": "stream",
     "text": [
      "Inicijalna preciznost: 0.8453721075672295\n"
     ]
    }
   ],
   "source": [
    "initial_clf.fit(X_train, y_train)\n",
    "y_pred_initial = initial_clf.predict(X_test)\n",
    "print(\"Inicijalna preciznost:\", accuracy_score(y_test, y_pred_initial))"
   ]
  },
  {
   "cell_type": "code",
   "execution_count": 14,
   "metadata": {},
   "outputs": [],
   "source": [
    "initial_best = [1.5227581792019662, 0.06450025916751723]"
   ]
  },
  {
   "cell_type": "code",
   "execution_count": 15,
   "metadata": {},
   "outputs": [],
   "source": [
    "lb = [max(0.1, initial_best[0] - 0.5), max(0.001, initial_best[1] - 0.01)]\n",
    "ub = [initial_best[0] + 0.5, initial_best[1] + 0.01]\n",
    "random_seed = 42"
   ]
  },
  {
   "cell_type": "code",
   "execution_count": 16,
   "metadata": {},
   "outputs": [],
   "source": [
    "def objective_function(params, iteration_seed):\n",
    "    C, gamma = params\n",
    "    pipeline = Pipeline(steps=[\n",
    "        ('preprocessor', preprocessor),\n",
    "        ('classifier', SVC(kernel='rbf', C=C, gamma=gamma, random_state=iteration_seed))\n",
    "    ])\n",
    "    pipeline.fit(X_train, y_train)\n",
    "    y_pred = pipeline.predict(X_test)\n",
    "    return accuracy_score(y_test, y_pred)"
   ]
  },
  {
   "cell_type": "code",
   "execution_count": 17,
   "metadata": {},
   "outputs": [],
   "source": [
    "def pso(n_particles, iterations, w, c1, c2, lb, ub, initial_best, random_seed):\n",
    "    np.random.seed(random_seed)\n",
    "    random.seed(random_seed)\n",
    "    dim = 2\n",
    "    X = np.random.uniform(lb, ub, (n_particles, dim))\n",
    "    X[0] = initial_best\n",
    "    print(X)\n",
    "    V = np.random.uniform(-1, 1, (n_particles, dim))\n",
    "    pbest = X.copy()\n",
    "    pbest_scores = np.array([objective_function(ind, random.randint(0, 10000)) for ind in X])\n",
    "    gbest = X[np.argmax(pbest_scores)]\n",
    "    gbest_score = np.max(pbest_scores)\n",
    "\n",
    "    history = []\n",
    "\n",
    "    for t in range(iterations):\n",
    "        for i in range(n_particles):\n",
    "            r1, r2 = np.random.rand(), np.random.rand()\n",
    "            V[i] = w * V[i] + c1 * r1 * (pbest[i] - X[i]) + c2 * r2 * (gbest - X[i])\n",
    "            X[i] = np.clip(X[i] + V[i], lb, ub)\n",
    "\n",
    "            iteration_seed = random.randint(0, 10000)\n",
    "            score = objective_function(X[i], iteration_seed)\n",
    "            if score > pbest_scores[i]:\n",
    "                pbest[i] = X[i]\n",
    "                pbest_scores[i] = score\n",
    "                if score > gbest_score:\n",
    "                    gbest = X[i]\n",
    "                    gbest_score = score\n",
    "\n",
    "        print(f\"PSO Iteracija: {t+1}\")\n",
    "        history.append(gbest_score)\n",
    "\n",
    "    return gbest, gbest_score, history"
   ]
  },
  {
   "cell_type": "code",
   "execution_count": 18,
   "metadata": {},
   "outputs": [],
   "source": [
    "n_particles = 10\n",
    "iterations = 30\n",
    "w = 0.5\n",
    "c1 = 1.5\n",
    "c2 = 1.5"
   ]
  },
  {
   "cell_type": "code",
   "execution_count": 19,
   "metadata": {},
   "outputs": [
    {
     "name": "stdout",
     "output_type": "stream",
     "text": [
      "[[1.52275818 0.06450026]\n",
      " [1.75475212 0.06647343]\n",
      " [1.17877682 0.05762015]\n",
      " [1.08084179 0.07182378]\n",
      " [1.62387319 0.06866171]\n",
      " [1.04334267 0.07389846]\n",
      " [1.85520082 0.05874704]\n",
      " [1.20458315 0.05816835]\n",
      " [1.32700042 0.06499539]\n",
      " [1.4547032  0.06032484]]\n",
      "PSO Iteracija: 1\n",
      "PSO Iteracija: 2\n",
      "PSO Iteracija: 3\n",
      "PSO Iteracija: 4\n",
      "PSO Iteracija: 5\n",
      "PSO Iteracija: 6\n",
      "PSO Iteracija: 7\n",
      "PSO Iteracija: 8\n",
      "PSO Iteracija: 9\n",
      "PSO Iteracija: 10\n",
      "PSO Iteracija: 11\n",
      "PSO Iteracija: 12\n",
      "PSO Iteracija: 13\n",
      "PSO Iteracija: 14\n",
      "PSO Iteracija: 15\n",
      "PSO Iteracija: 16\n",
      "PSO Iteracija: 17\n",
      "PSO Iteracija: 18\n",
      "PSO Iteracija: 19\n",
      "PSO Iteracija: 20\n",
      "PSO Iteracija: 21\n",
      "PSO Iteracija: 22\n",
      "PSO Iteracija: 23\n",
      "PSO Iteracija: 24\n",
      "PSO Iteracija: 25\n",
      "PSO Iteracija: 26\n",
      "PSO Iteracija: 27\n",
      "PSO Iteracija: 28\n",
      "PSO Iteracija: 29\n",
      "PSO Iteracija: 30\n"
     ]
    }
   ],
   "source": [
    "best_params_pso, best_score_pso, history_pso = pso(n_particles, iterations, w, c1, c2, lb, ub, initial_best, random_seed)"
   ]
  },
  {
   "cell_type": "code",
   "execution_count": 20,
   "metadata": {},
   "outputs": [
    {
     "name": "stdout",
     "output_type": "stream",
     "text": [
      "PSO najbolje parametre: C = 1.8390146516443038, gamma = 0.07450025916751722\n",
      "PSO najbolji rezultat: 0.848968105065666\n"
     ]
    }
   ],
   "source": [
    "print(f\"PSO najbolje parametre: C = {best_params_pso[0]}, gamma = {best_params_pso[1]}\")\n",
    "print(f\"PSO najbolji rezultat: {best_score_pso}\")"
   ]
  }
 ],
 "metadata": {
  "kernelspec": {
   "display_name": "Python 3",
   "language": "python",
   "name": "python3"
  },
  "language_info": {
   "codemirror_mode": {
    "name": "ipython",
    "version": 3
   },
   "file_extension": ".py",
   "mimetype": "text/x-python",
   "name": "python",
   "nbconvert_exporter": "python",
   "pygments_lexer": "ipython3",
   "version": "3.10.0"
  }
 },
 "nbformat": 4,
 "nbformat_minor": 2
}
